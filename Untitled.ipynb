{
 "cells": [
  {
   "cell_type": "code",
   "execution_count": 1,
   "metadata": {},
   "outputs": [],
   "source": [
    "import re\n",
    "from bs4 import BeautifulSoup"
   ]
  },
  {
   "cell_type": "code",
   "execution_count": 4,
   "metadata": {},
   "outputs": [],
   "source": [
    "reg = re.compile('https://www\\.epocacosmeticos\\.com\\.br/.+')"
   ]
  },
  {
   "cell_type": "code",
   "execution_count": 7,
   "metadata": {},
   "outputs": [
    {
     "name": "stdout",
     "output_type": "stream",
     "text": [
      "None\n"
     ]
    }
   ],
   "source": [
    "print(reg.match('https://www.giuice.com'))\n"
   ]
  },
  {
   "cell_type": "code",
   "execution_count": 61,
   "metadata": {},
   "outputs": [],
   "source": [
    "'''\n",
    "https://www.epocacosmeticos.com.br/perfumes/perfume-feminino/mugler\n",
    "--------------------\n",
    "https://www.epocacosmeticos.com.br/perfumes/perfume-feminino?PS=16\n",
    "--------------------\n",
    "https://www.epocacosmeticos.com.br/perfumes/perfume-feminino/1902?PS=16\n",
    "--------------------\n",
    "https://www.epocacosmeticos.com.br/perfumes/perfume-feminino/1902/Especiarado?PS=16&map=c,c,b,specificationFilter_7\n",
    "--------------------\n",
    "https://www.epocacosmeticos.com.br/perfumes/perfume-feminino/Especiarado?PS=16&map=c,c,specificationFilter_7\n",
    "--------------------\n",
    "https://www.epocacosmeticos.com.br/perfumes/perfume-feminino/animale/Especiarado?PS=16&map=c,c,b,specificationFilter_7\n",
    "--------------------\n",
    "https://www.epocacosmeticos.com.br/perfumes/perfume-feminino/animale?PS=16\n",
    "'''\n",
    "url = 'https://www.epocacosmeticos.com.br/perfumes/perfume-feminino/animale?PS=16'\n",
    "url2 = 'https://www.epocacosmeticos.com.br/perfumes/'"
   ]
  },
  {
   "cell_type": "code",
   "execution_count": 11,
   "metadata": {},
   "outputs": [
    {
     "name": "stdout",
     "output_type": "stream",
     "text": [
      "<_sre.SRE_Match object; span=(0, 74), match='https://www.epocacosmeticos.com.br/perfumes/perfu>\n"
     ]
    }
   ],
   "source": [
    "print(reg.match(url))"
   ]
  },
  {
   "cell_type": "code",
   "execution_count": 76,
   "metadata": {},
   "outputs": [],
   "source": [
    "reg2 = re.compile('(https://www.epocacosmeticos.com.br/).((?!PS=).)*$')"
   ]
  },
  {
   "cell_type": "code",
   "execution_count": 75,
   "metadata": {},
   "outputs": [
    {
     "name": "stdout",
     "output_type": "stream",
     "text": [
      "https://www.epocacosmeticos.com.br/perfumes/perfume-feminino/animale?PS=16\n"
     ]
    }
   ],
   "source": [
    "m = reg2.search(url)\n",
    "if m:\n",
    "    print(m.group())"
   ]
  },
  {
   "cell_type": "code",
   "execution_count": null,
   "metadata": {},
   "outputs": [],
   "source": []
  }
 ],
 "metadata": {
  "kernelspec": {
   "display_name": "Python 3",
   "language": "python",
   "name": "python3"
  },
  "language_info": {
   "codemirror_mode": {
    "name": "ipython",
    "version": 3
   },
   "file_extension": ".py",
   "mimetype": "text/x-python",
   "name": "python",
   "nbconvert_exporter": "python",
   "pygments_lexer": "ipython3",
   "version": "3.6.4"
  }
 },
 "nbformat": 4,
 "nbformat_minor": 2
}
